{
 "cells": [
  {
   "cell_type": "markdown",
   "metadata": {},
   "source": [
    "# Simple Taylor method for integrating ODEs"
   ]
  },
  {
   "cell_type": "markdown",
   "metadata": {},
   "source": [
    "In this notebook, we show how `TaylorSeries` can be applied in a relatively simple way to implement the Taylor method of integration for ODEs to arbitrarily high order.\n",
    "\n",
    "This is a pedagogical example, since the Picard integration method used is not efficient in practice. Nonetheless it is a very intuitive method."
   ]
  },
  {
   "cell_type": "markdown",
   "metadata": {},
   "source": [
    "## Picard integration"
   ]
  },
  {
   "cell_type": "markdown",
   "metadata": {},
   "source": [
    "We first implement Picard integration for a single-variable Taylor series:"
   ]
  },
  {
   "cell_type": "code",
   "execution_count": null,
   "metadata": {},
   "outputs": [],
   "source": [
    "using TaylorSeries"
   ]
  },
  {
   "cell_type": "code",
   "execution_count": null,
   "metadata": {},
   "outputs": [],
   "source": [
    "∫⬩dt(u::Taylor1) = integrate(u)"
   ]
  },
  {
   "cell_type": "code",
   "execution_count": null,
   "metadata": {},
   "outputs": [],
   "source": [
    "function taylor_step(f, u0)\n",
    "\n",
    "    u = copy(u0)\n",
    "    unew = u0 + ∫⬩dt(f(u))\n",
    "\n",
    "    while unew != u\n",
    "        u = unew\n",
    "        unew = u0 + ∫⬩dt(f(u))   # Picard iteration\n",
    "    end\n",
    "    \n",
    "    return u\n",
    "end"
   ]
  },
  {
   "cell_type": "code",
   "execution_count": null,
   "metadata": {},
   "outputs": [],
   "source": [
    "f(x) = x\n",
    "\n",
    "degree = 3\n",
    "\n",
    "u0 = Taylor1([1.0], degree)\n",
    "\n",
    "soln = taylor_step(f, u0)"
   ]
  },
  {
   "cell_type": "code",
   "execution_count": null,
   "metadata": {},
   "outputs": [],
   "source": [
    "soln(1.0)"
   ]
  },
  {
   "cell_type": "code",
   "execution_count": null,
   "metadata": {},
   "outputs": [],
   "source": [
    "degree = 10\n",
    "u0 = Taylor1([1.0], degree)\n",
    "\n",
    "soln = taylor_step(f, u0)"
   ]
  },
  {
   "cell_type": "code",
   "execution_count": null,
   "metadata": {},
   "outputs": [],
   "source": [
    "soln(1.0) - exp(1.0)"
   ]
  },
  {
   "cell_type": "code",
   "execution_count": null,
   "metadata": {},
   "outputs": [],
   "source": [
    "degree = 20 \n",
    "u0 = Taylor1([1.0], degree)\n",
    "\n",
    "soln = taylor_step(f, u0)\n",
    "soln(1.0) - exp(1.0)"
   ]
  },
  {
   "cell_type": "markdown",
   "metadata": {},
   "source": [
    "## More variables"
   ]
  },
  {
   "cell_type": "markdown",
   "metadata": {},
   "source": [
    "Now let `u0` be a vector in $\\mathbb{R}^d$ and `f` a function from $\\mathbb{R}^d \\to \\mathbb{R}^d$. In Julia we just have to broadcast the operations using `.`:"
   ]
  },
  {
   "cell_type": "code",
   "execution_count": null,
   "metadata": {},
   "outputs": [],
   "source": [
    "function taylor_step(f, u0)\n",
    "\n",
    "    u = copy(u0)\n",
    "    unew = u0 .+ ∫⬩dt.(f(u))\n",
    "\n",
    "    while unew != u\n",
    "        u = unew\n",
    "        unew = u0 .+ ∫⬩dt.(f(u))\n",
    "    end\n",
    "    \n",
    "    return u\n",
    "end"
   ]
  },
  {
   "cell_type": "markdown",
   "metadata": {},
   "source": [
    "An alternative would be to overload `∫⬩dt` to act on a vector and return a vector."
   ]
  },
  {
   "cell_type": "markdown",
   "metadata": {},
   "source": [
    "Note that this version of taylor_integration also works for a single variable, so it is in fact the only version that we need:"
   ]
  },
  {
   "cell_type": "code",
   "execution_count": null,
   "metadata": {},
   "outputs": [],
   "source": [
    "degree = 20\n",
    "u0 = Taylor1([1.0], degree)\n",
    "\n",
    "soln = taylor_step(f, u0)\n",
    "soln(1.0) - exp(1.0)"
   ]
  },
  {
   "cell_type": "markdown",
   "metadata": {},
   "source": [
    "## Taylor integration"
   ]
  },
  {
   "cell_type": "code",
   "execution_count": null,
   "metadata": {},
   "outputs": [],
   "source": [
    "TaylorSeries.displayBigO(false)"
   ]
  },
  {
   "cell_type": "markdown",
   "metadata": {},
   "source": [
    "Let's run several time steps to perform a complete ODE integration:"
   ]
  },
  {
   "cell_type": "code",
   "execution_count": null,
   "metadata": {},
   "outputs": [],
   "source": [
    "function taylor_integrate(f, x00, t0, δt, t_final, degree=10)\n",
    "    \n",
    "    ts = [t0]\n",
    "    xs = [x00]\n",
    "\n",
    "    # Taylor version of initial condition for each step:\n",
    "    x0 = Taylor1.(x00, degree)  \n",
    "    t = t0\n",
    "    \n",
    "    \n",
    "    while t < t_final\n",
    "\n",
    "        x = taylor_step(f, x0)\n",
    "        t += δt\n",
    "        \n",
    "        # evaluate Taylor series at end of step to get new initial condition: \n",
    "        xend = x(δt)\n",
    "\n",
    "        push!(ts, t)\n",
    "        push!(xs, xend)\n",
    "        \n",
    "        # Taylor series for new initial condition:\n",
    "        x0 = Taylor1.(xend, degree)\n",
    "    end\n",
    "    \n",
    "    return ts, xs\n",
    "    \n",
    "end"
   ]
  },
  {
   "cell_type": "markdown",
   "metadata": {},
   "source": [
    "Single variable:"
   ]
  },
  {
   "cell_type": "code",
   "execution_count": null,
   "metadata": {},
   "outputs": [],
   "source": [
    "f(β, x) = -β * x\n",
    "\n",
    "x0 = 1.0\n",
    "t0 = 0.0\n",
    "δt = 0.1\n",
    "t_final = 5.0\n",
    "\n",
    "α = 0.5\n",
    "@time ts, xs = taylor_integrate(x -> f(α, x), x0, t0, δt, t_final)"
   ]
  },
  {
   "cell_type": "code",
   "execution_count": null,
   "metadata": {},
   "outputs": [],
   "source": [
    "using Plots"
   ]
  },
  {
   "cell_type": "code",
   "execution_count": null,
   "metadata": {},
   "outputs": [],
   "source": [
    "plot(ts, xs)\n",
    "plot!(ts, t->exp(-α*t))"
   ]
  },
  {
   "cell_type": "code",
   "execution_count": null,
   "metadata": {},
   "outputs": [],
   "source": [
    "xs[end] - exp(-α * ts[end])"
   ]
  },
  {
   "cell_type": "markdown",
   "metadata": {},
   "source": [
    "### Van der Pol oscillator:"
   ]
  },
  {
   "cell_type": "code",
   "execution_count": null,
   "metadata": {},
   "outputs": [],
   "source": [
    "van_der_Pol(μ, xx) = ( (x, y) = xx; [y, μ * (1 - x*x) * y - x] )\n",
    "\n",
    "x0 = [1.0, 0.0]\n",
    "t0 = 0.0\n",
    "δt = 0.01\n",
    "t_final = 20.0\n",
    "degree = 10\n",
    "\n",
    "μ = 3.0\n",
    "@time ts, soln = taylor_integrate(x -> van_der_Pol(μ, x), x0, t0, δt, t_final, degree)"
   ]
  },
  {
   "cell_type": "code",
   "execution_count": null,
   "metadata": {},
   "outputs": [],
   "source": [
    "using Plots"
   ]
  },
  {
   "cell_type": "code",
   "execution_count": null,
   "metadata": {},
   "outputs": [],
   "source": [
    "plot(first.(soln), last.(soln), leg=false)\n",
    "scatter!([first(soln[1])], [last(soln[1])])"
   ]
  },
  {
   "cell_type": "code",
   "execution_count": null,
   "metadata": {},
   "outputs": [],
   "source": [
    "x0 = [2.0, 5.0]\n",
    "\n",
    "@time ts, soln = taylor_integrate(x -> van_der_Pol(μ, x), x0, t0, δt, t_final, degree)"
   ]
  },
  {
   "cell_type": "code",
   "execution_count": null,
   "metadata": {},
   "outputs": [],
   "source": [
    "plot!(first.(soln), last.(soln), leg=false)\n",
    "scatter!([first(soln[1])], [last(soln[1])])"
   ]
  },
  {
   "cell_type": "markdown",
   "metadata": {},
   "source": [
    "## Obtaining performance"
   ]
  },
  {
   "cell_type": "markdown",
   "metadata": {},
   "source": [
    "The above is a pedagogical approach. For efficiency, we should avoid re-calculating those Taylor coefficients that have previously been calculated in each step of the Picard integration. One solution for this is the `@taylorize` macro in `TaylorIntegration.jl`."
   ]
  },
  {
   "cell_type": "code",
   "execution_count": null,
   "metadata": {},
   "outputs": [],
   "source": []
  }
 ],
 "metadata": {
  "kernelspec": {
   "display_name": "Julia 1.1.0",
   "language": "julia",
   "name": "julia-1.1"
  },
  "language_info": {
   "file_extension": ".jl",
   "mimetype": "application/julia",
   "name": "julia",
   "version": "1.1.0"
  }
 },
 "nbformat": 4,
 "nbformat_minor": 2
}
