{
 "cells": [
  {
   "cell_type": "markdown",
   "metadata": {},
   "source": [
    "<script type=\"text/x-mathjax-config\">\n",
    "  MathJax.Hub.Config({\n",
    "    TeX: { equationNumbers: { autoNumber: \"AMS\" } }\n",
    "  });\n",
    "  MathJax.Hub.Config({\n",
    "    TeX: { extensions: [\"AMSmath.js\", \"AMSsymbols.js\", \"autobold.js\", \"autoload-all.js\"] }\n",
    "  });\n",
    "  MathJax.Hub.Config({\n",
    "    tex2jax: {\n",
    "      inlineMath: [['$','$'], ['\\\\(','\\\\)']],\n",
    "      processEscapes: true\n",
    "    }\n",
    "  });\n",
    "</script>\n",
    "<script type=\"text/javascript\" src=\"http://cdn.mathjax.org/mathjax/latest/MathJax.js?config=TeX-AMS_HTML\">\n",
    "</script>\n",
    "\n",
    "# User guide\n",
    "\n",
    "---\n",
    "\n",
    "`TaylorSeries.jl` can be thought of as a polynomial algebraic manipulator in one or more\n",
    "variables; these two cases are treated separately for now.  Three new types are defined,\n",
    "`Taylor1`, `HomogeneousPolynomial` and `TaylorN`, which correspond to\n",
    "expansions in one independent variable, homogeneous polynomials of various variables, and the polynomial\n",
    "series in many independent variables, respectively. These types are subtypes\n",
    "of `Number` and are defined parametrically.\n",
    "\n",
    "The package is loaded as usual:"
   ]
  },
  {
   "cell_type": "code",
   "execution_count": null,
   "metadata": {
    "attributes": {
     "classes": [
      "julia"
     ],
     "id": ""
    }
   },
   "outputs": [],
   "source": [
    "using TaylorSeries"
   ]
  },
  {
   "cell_type": "markdown",
   "metadata": {},
   "source": [
    "## One variable\n",
    "\n",
    "Taylor expansions in one variable are represented by the `Taylor1` type, which\n",
    "consists of a vector of coefficients (field `coeffs`) and the maximum\n",
    "order considered for the expansion (field `order`). The\n",
    "coefficients are arranged in ascending order with respect to the power of the\n",
    "independent variable, so that\n",
    "`coeffs[1]` is the constant term, `coeffs[2]` gives the first order term,\n",
    "etc. This is a dense representation of the polynomial.\n",
    "The order of the polynomial can be\n",
    "omitted in the constructor, which is then fixed from the length of the\n",
    "vector of coefficients; otherwise, the maximum\n",
    "of the length of the vector of coefficients and the given integer is taken."
   ]
  },
  {
   "cell_type": "code",
   "execution_count": null,
   "metadata": {},
   "outputs": [],
   "source": [
    "Taylor1([1, 2, 3]) # Polynomial of order 2 with coefficients 1, 2, 3"
   ]
  },
  {
   "cell_type": "code",
   "execution_count": null,
   "metadata": {},
   "outputs": [],
   "source": [
    "Taylor1([0.0, 1im]) # Also works with complex numbers"
   ]
  },
  {
   "cell_type": "code",
   "execution_count": null,
   "metadata": {},
   "outputs": [],
   "source": [
    "affine(a) = a + Taylor1(typeof(a),5)  ## a + t of order 5"
   ]
  },
  {
   "cell_type": "code",
   "execution_count": null,
   "metadata": {
    "attributes": {
     "classes": [
      "julia"
     ],
     "id": ""
    }
   },
   "outputs": [],
   "source": [
    "t = affine(0.0) # Independent variable `t`"
   ]
  },
  {
   "cell_type": "markdown",
   "metadata": {},
   "source": [
    "Note that the information about the maximum order considered is displayed\n",
    "using a big-O notation.\n",
    "\n",
    "The definition of `affine(a)` uses the method `Taylor1{T<:Number}(::Type{T},order::Int)`, which is a\n",
    "shortcut to define the independent variable of a Taylor expansion,\n",
    "with a given type and given order. As we show below, this is one of the\n",
    "easiest ways to work with the package.\n",
    "\n",
    "The usual arithmetic operators (`+`, `-`, `*`, `/`, `^`, `==`) have been\n",
    "extended to work with the `Taylor1` type, including promotions that involve\n",
    "`Number`s. The operations return a valid Taylor expansion with the same\n",
    "maximum order; compare the last example below, where this is not possible:"
   ]
  },
  {
   "cell_type": "code",
   "execution_count": null,
   "metadata": {},
   "outputs": [],
   "source": [
    "t*(3t+2.5)"
   ]
  },
  {
   "cell_type": "code",
   "execution_count": null,
   "metadata": {},
   "outputs": [],
   "source": [
    "1/(1-t)"
   ]
  },
  {
   "cell_type": "code",
   "execution_count": null,
   "metadata": {},
   "outputs": [],
   "source": [
    "t*(t^2-4)/(t+2)"
   ]
  },
  {
   "cell_type": "code",
   "execution_count": null,
   "metadata": {},
   "outputs": [],
   "source": [
    "tI = im*t"
   ]
  },
  {
   "cell_type": "code",
   "execution_count": null,
   "metadata": {},
   "outputs": [],
   "source": [
    "t^6  # order is 5"
   ]
  },
  {
   "cell_type": "code",
   "execution_count": null,
   "metadata": {},
   "outputs": [],
   "source": [
    "(1-t)^3.2"
   ]
  },
  {
   "cell_type": "code",
   "execution_count": null,
   "metadata": {},
   "outputs": [],
   "source": [
    "(1+t)^t"
   ]
  },
  {
   "cell_type": "markdown",
   "metadata": {},
   "source": [
    "If no valid Taylor expansion can be computed, an error is thrown."
   ]
  },
  {
   "cell_type": "code",
   "execution_count": null,
   "metadata": {},
   "outputs": [],
   "source": [
    "1/t "
   ]
  },
  {
   "cell_type": "code",
   "execution_count": null,
   "metadata": {
    "attributes": {
     "classes": [
      "julia"
     ],
     "id": ""
    }
   },
   "outputs": [],
   "source": [
    "t^3.2"
   ]
  },
  {
   "cell_type": "markdown",
   "metadata": {},
   "source": [
    "Several elementary functions have been implemented; these compute their\n",
    "coefficients recursively. So far, these functions are `exp`, `log`, `sqrt`, `sin`, `cos`\n",
    "and `tan`;\n",
    "more will be added in the future. Note that this way of obtaining the\n",
    "Taylor coefficients is not the *laziest* way, in particular for many independent\n",
    "variables. Yet, it is quite efficient, especially for the integration of\n",
    "ordinary differential equations, which is among the applications we have in mind."
   ]
  },
  {
   "cell_type": "code",
   "execution_count": null,
   "metadata": {},
   "outputs": [],
   "source": [
    "exp(t)"
   ]
  },
  {
   "cell_type": "code",
   "execution_count": null,
   "metadata": {},
   "outputs": [],
   "source": [
    "log(1-t)"
   ]
  },
  {
   "cell_type": "code",
   "execution_count": null,
   "metadata": {},
   "outputs": [],
   "source": [
    "sqrt(t)"
   ]
  },
  {
   "cell_type": "code",
   "execution_count": null,
   "metadata": {},
   "outputs": [],
   "source": [
    "sqrt(1 + t)"
   ]
  },
  {
   "cell_type": "code",
   "execution_count": null,
   "metadata": {},
   "outputs": [],
   "source": [
    "imag(exp(tI)')"
   ]
  },
  {
   "cell_type": "code",
   "execution_count": null,
   "metadata": {},
   "outputs": [],
   "source": [
    "real(exp(Taylor1([0.0,1im],17))) - cos(Taylor1([0.0,1.0],17)) == 0.0"
   ]
  },
  {
   "cell_type": "code",
   "execution_count": null,
   "metadata": {
    "attributes": {
     "classes": [
      "julia"
     ],
     "id": ""
    }
   },
   "outputs": [],
   "source": [
    "convert(Taylor1{Rational{Int}}, exp(t))"
   ]
  },
  {
   "cell_type": "markdown",
   "metadata": {},
   "source": [
    "Differentiating and integrating is straightforward for polynomial expansions in\n",
    "one variable. The last coefficient of a derivative is set to zero to keep the\n",
    "same order as the original polynomial; for the integral, an\n",
    "integration constant may be set to a different value (the default is zero). The\n",
    "order of the resulting polynomial is not changed.\n",
    "The $n$-th ($n \\ge 0$) derivative at `t=0` is obtained using `derivative(n,a)`  where `a` is a Taylor series."
   ]
  },
  {
   "cell_type": "code",
   "execution_count": null,
   "metadata": {},
   "outputs": [],
   "source": [
    "derivative(exp(t))"
   ]
  },
  {
   "cell_type": "code",
   "execution_count": null,
   "metadata": {},
   "outputs": [],
   "source": [
    "integrate(exp(t))"
   ]
  },
  {
   "cell_type": "code",
   "execution_count": null,
   "metadata": {},
   "outputs": [],
   "source": [
    "integrate( exp(t), 1.0)"
   ]
  },
  {
   "cell_type": "code",
   "execution_count": null,
   "metadata": {},
   "outputs": [],
   "source": [
    "integrate( derivative( exp(-t)), 1.0 ) == exp(-t)"
   ]
  },
  {
   "cell_type": "code",
   "execution_count": null,
   "metadata": {},
   "outputs": [],
   "source": [
    "evaluate(derivative(exp(affine(1.0))),0.) == exp(1.0)  # deriv of `exp(1+t)` at t=0"
   ]
  },
  {
   "cell_type": "code",
   "execution_count": null,
   "metadata": {},
   "outputs": [],
   "source": [
    "derivative(5, exp(affine(1.0))) == exp(1.0) # Fifth derivative of `exp(1+t) at t=0`"
   ]
  },
  {
   "cell_type": "markdown",
   "metadata": {},
   "source": [
    "To evaluate a Taylor series at a point, Horner's rule is used via the function\n",
    "`evaluate(a::Taylor, dt::Number)`. Here, $dt$ is the increment from\n",
    "the point $t_0$ where the Taylor expansion is calculated, i.e., the series\n",
    "is evaluated at $t = t_0 + dt$. Omitting $dt$ corresponds to $dt = 0$."
   ]
  },
  {
   "cell_type": "code",
   "execution_count": null,
   "metadata": {},
   "outputs": [],
   "source": [
    "evaluate(exp(affine(1.0))) - e # exp(t) around t0=1 (order 5), evaluated there (dt=0)"
   ]
  },
  {
   "cell_type": "code",
   "execution_count": null,
   "metadata": {},
   "outputs": [],
   "source": [
    "evaluate(exp(t), 1) - e # exp(t) around t0=0 (order 5), evaluated at t=1"
   ]
  },
  {
   "cell_type": "code",
   "execution_count": null,
   "metadata": {},
   "outputs": [],
   "source": [
    "evaluate( exp( Taylor1(Float64,17) ), 1) - e # exp(t) around t0=0 (order 17), evaluated at t=1\n",
    "0.0"
   ]
  },
  {
   "cell_type": "code",
   "execution_count": null,
   "metadata": {},
   "outputs": [],
   "source": [
    "tBig = Taylor1([zero(BigFloat),one(BigFloat)],50) # With BigFloats"
   ]
  },
  {
   "cell_type": "code",
   "execution_count": null,
   "metadata": {},
   "outputs": [],
   "source": [
    "eBig = evaluate( exp(tBig), one(BigFloat) )"
   ]
  },
  {
   "cell_type": "code",
   "execution_count": null,
   "metadata": {
    "attributes": {
     "classes": [
      "julia"
     ],
     "id": ""
    }
   },
   "outputs": [],
   "source": [
    "e - eBig"
   ]
  },
  {
   "cell_type": "markdown",
   "metadata": {},
   "source": [
    "## Many variables\n",
    "\n",
    "A polynomial in $N>1$ variables can be represented in (at least) two ways:\n",
    "As a vector whose coefficients are homogeneous polynomials of fixed degree, or\n",
    "as a vector whose coefficients are polynomials in $N-1$ variables. We have opted\n",
    "to implement the first option, which seems to show better performance. An elegant\n",
    "(lazy) implementation of the second representation was discussed on the\n",
    "[julia-users](https://groups.google.com/forum/#!msg/julia-users/AkK_UdST3Ig/sNrtyRJHK0AJ) list.\n",
    "\n",
    "`TaylorN` is thus constructed as a vector of parameterized homogeneous polynomials\n",
    "defined by the type `HomogeneousPolynomial`, which in turn is a vector of\n",
    "coefficients of given order (degree). This implementation imposes that the user\n",
    "has to specify the (maximum) order and the number of independent\n",
    "variables, which is done using the `set_variables(names)` function.\n",
    "`names` is a string consisting of the desired *output* names of the variables,\n",
    "separated by spaces. A vector of the resulting Taylor variables is returned:"
   ]
  },
  {
   "cell_type": "code",
   "execution_count": null,
   "metadata": {
    "attributes": {
     "classes": [
      "julia"
     ],
     "id": ""
    }
   },
   "outputs": [],
   "source": [
    "x, y = set_variables(\"x y\")"
   ]
  },
  {
   "cell_type": "code",
   "execution_count": null,
   "metadata": {},
   "outputs": [],
   "source": [
    "x"
   ]
  },
  {
   "cell_type": "code",
   "execution_count": null,
   "metadata": {},
   "outputs": [],
   "source": [
    "typeof(x)"
   ]
  },
  {
   "cell_type": "code",
   "execution_count": null,
   "metadata": {},
   "outputs": [],
   "source": [
    "x.order"
   ]
  },
  {
   "cell_type": "code",
   "execution_count": null,
   "metadata": {},
   "outputs": [],
   "source": [
    "x.coeffs"
   ]
  },
  {
   "cell_type": "markdown",
   "metadata": {},
   "source": [
    "As shown, the resulting objects are of `TaylorN{Float64}` type. There is an optional `order` keyword argument for `set_variables`:"
   ]
  },
  {
   "cell_type": "code",
   "execution_count": null,
   "metadata": {},
   "outputs": [],
   "source": [
    "set_variables(\"x y\", order=10)"
   ]
  },
  {
   "cell_type": "markdown",
   "metadata": {},
   "source": [
    "Numbered variables are also available by specifying a single\n",
    "variable name and the optional keyword argument `numvars`:"
   ]
  },
  {
   "cell_type": "code",
   "execution_count": null,
   "metadata": {
    "attributes": {
     "classes": [
      "julia"
     ],
     "id": ""
    }
   },
   "outputs": [],
   "source": [
    "set_variables(\"α\", numvars=3)"
   ]
  },
  {
   "cell_type": "markdown",
   "metadata": {},
   "source": [
    "The function ``show_params_TaylorN()` displays the current values of the parameters, in an info block."
   ]
  },
  {
   "cell_type": "code",
   "execution_count": null,
   "metadata": {
    "attributes": {
     "classes": [
      "julia"
     ],
     "id": ""
    }
   },
   "outputs": [],
   "source": [
    "show_params_TaylorN()"
   ]
  },
  {
   "cell_type": "markdown",
   "metadata": {},
   "source": [
    "Internally, changing these parameters defines dictionaries that\n",
    "translate the position of the coefficients of a `HomogeneousPolynomial`\n",
    "into the corresponding\n",
    "multi-variable monomials. Fixing these values from the start is imperative.\n",
    "\n",
    "The easiest way to construct a `TaylorN` object is by defining symbols for\n",
    "the independent variables, as above. Again, the Taylor expansions are implemented\n",
    "around 0 for all variables; if the expansion\n",
    "is needed around a different value, the trick is a simple translation of\n",
    "the corresponding\n",
    "independent variable $x \\to x+a$.\n",
    "\n",
    "\n",
    "Other ways of constructing `TaylorN` polynomials involve using `HomogeneousPolynomial`\n",
    "objects directly, which is uncomfortable:"
   ]
  },
  {
   "cell_type": "code",
   "execution_count": null,
   "metadata": {},
   "outputs": [],
   "source": [
    "set_variables(\"x\", numvars=2);"
   ]
  },
  {
   "cell_type": "code",
   "execution_count": null,
   "metadata": {},
   "outputs": [],
   "source": [
    "HomogeneousPolynomial([1,-1])"
   ]
  },
  {
   "cell_type": "code",
   "execution_count": null,
   "metadata": {
    "attributes": {
     "classes": [
      "julia"
     ],
     "id": ""
    }
   },
   "outputs": [],
   "source": [
    "TaylorN( [HomogeneousPolynomial([1,0]), HomogeneousPolynomial([1,2,3])], 4)"
   ]
  },
  {
   "cell_type": "markdown",
   "metadata": {},
   "source": [
    "As before, the usual arithmetic operators (`+`, `-`, `*`, `/`, `^`, `==`)\n",
    "have been extended to work with `TaylorN` objects, including the appropriate\n",
    "promotions to deal with numbers. (Some of the arithmetic operations have\n",
    "also been extended for\n",
    "`HomogeneousPolynomial`, whenever the result is a `HomogeneousPolynomial`;\n",
    "division, for instance, is not extended.) Also, the elementary functions have been\n",
    "implemented, again by computing their coefficients recursively:"
   ]
  },
  {
   "cell_type": "code",
   "execution_count": null,
   "metadata": {},
   "outputs": [],
   "source": [
    "x, y = set_variables(\"x y\", order=10);"
   ]
  },
  {
   "cell_type": "code",
   "execution_count": null,
   "metadata": {
    "attributes": {
     "classes": [
      "julia"
     ],
     "id": ""
    }
   },
   "outputs": [],
   "source": [
    "exy = exp(x+y)"
   ]
  },
  {
   "cell_type": "markdown",
   "metadata": {},
   "source": [
    "The function `getcoeff(a,v)`\n",
    "gives the coefficient of `a::TaylorN` that corresponds to the monomial\n",
    "specified by the vector of powers `v`:"
   ]
  },
  {
   "cell_type": "code",
   "execution_count": null,
   "metadata": {},
   "outputs": [],
   "source": [
    "typeof(exy)"
   ]
  },
  {
   "cell_type": "code",
   "execution_count": null,
   "metadata": {},
   "outputs": [],
   "source": [
    "rationalize(getcoeff(exy, [3,5]))"
   ]
  },
  {
   "cell_type": "markdown",
   "metadata": {},
   "source": [
    "Partial differentiation is also implemented for `TaylorN` objects,\n",
    "through `derivative`; integration is yet to be implemented."
   ]
  },
  {
   "cell_type": "code",
   "execution_count": null,
   "metadata": {},
   "outputs": [],
   "source": [
    "f(x,y) = x^3 + 2x^2 * y - 7x + 2"
   ]
  },
  {
   "cell_type": "code",
   "execution_count": null,
   "metadata": {},
   "outputs": [],
   "source": [
    "g(x,y) = y - x^4"
   ]
  },
  {
   "cell_type": "code",
   "execution_count": null,
   "metadata": {},
   "outputs": [],
   "source": [
    "derivative( f(x,y), 1 )   # partial derivative with respect to 1st variable"
   ]
  },
  {
   "cell_type": "code",
   "execution_count": null,
   "metadata": {},
   "outputs": [],
   "source": [
    "derivative( g(x,y), 2 )"
   ]
  },
  {
   "cell_type": "code",
   "execution_count": null,
   "metadata": {
    "attributes": {
     "classes": [
      "julia"
     ],
     "id": ""
    }
   },
   "outputs": [],
   "source": [
    "derivative( g(x,y), 3 )   # error, since we are dealing with 2 variables"
   ]
  },
  {
   "cell_type": "markdown",
   "metadata": {},
   "source": [
    "`evaluate` can also be used for `TaylorN` objects, using it on vectors of\n",
    "numbers (`Real` or `Complex`); the length of the vector must coincide with the number\n",
    "of independent variables."
   ]
  },
  {
   "cell_type": "code",
   "execution_count": null,
   "metadata": {},
   "outputs": [],
   "source": [
    "evaluate(exy, [.1,.02]) == e^0.12"
   ]
  },
  {
   "cell_type": "markdown",
   "metadata": {},
   "source": [
    "Functions to compute the gradient, Jacobian and\n",
    "Hessian have also been implemented. Using the\n",
    "functions $f(x,y) = x^3 + 2x^2 y - 7 x + 2$ and $g(x,y) = y-x^4$ defined above,\n",
    "we may use `gradient` or `∇` (`\\nabla+TAB`); the results are of\n",
    "type `Array{TaylorN{T},1}`. To compute the Jacobian or Hessian of a vector field\n",
    "evaluated at a point, we use `jacobian` and `hessian`:"
   ]
  },
  {
   "cell_type": "code",
   "execution_count": null,
   "metadata": {},
   "outputs": [],
   "source": [
    "f1 = f(x,y)"
   ]
  },
  {
   "cell_type": "code",
   "execution_count": null,
   "metadata": {},
   "outputs": [],
   "source": [
    "g1 = g(x,y)"
   ]
  },
  {
   "cell_type": "code",
   "execution_count": null,
   "metadata": {},
   "outputs": [],
   "source": [
    "gradient( g1 )"
   ]
  },
  {
   "cell_type": "code",
   "execution_count": null,
   "metadata": {},
   "outputs": [],
   "source": [
    "∇(f1)"
   ]
  },
  {
   "cell_type": "code",
   "execution_count": null,
   "metadata": {},
   "outputs": [],
   "source": [
    "fg = f1-g1-2*f1*g1"
   ]
  },
  {
   "cell_type": "code",
   "execution_count": null,
   "metadata": {},
   "outputs": [],
   "source": [
    "jacobian([f1,g1], [2,1])"
   ]
  },
  {
   "cell_type": "code",
   "execution_count": null,
   "metadata": {},
   "outputs": [],
   "source": [
    "hessian(fg, [1.0,1.0])"
   ]
  },
  {
   "cell_type": "markdown",
   "metadata": {},
   "source": [
    "## Examples\n",
    "\n",
    "### 1. Four-square identity\n",
    "\n",
    "Euler proved the [following four-square identity](https://en.wikipedia.org/wiki/Euler%27s_four-square_identity):\n",
    "\n",
    "\\begin{eqnarray*}\n",
    "(a_1^2+a_2^2+a_3^2+a_4^2) \\cdot (b_1^2+b_2^2+b_3^2+b_4^2) = & &\n",
    "   (a_1 b_1 + a_2 b_2 + a_3 b_3 + a_4 b_4)^2  \\\\\n",
    "  &+& (a_1 b_2 - a_2 b_1 + a_3 b_4 -a_4 b_3)^2  \\\\\n",
    "  &+& (a_1 b_3 - a_2 b_4 - a_3 b_1 +a_4 b_2)^2  \\\\\n",
    "  &+& (a_1 b_4 + a_2 b_3 - a_3 b_2 -a_4 b_1)^2.\n",
    "\\end{eqnarray*}\n",
    "\n",
    "The following code checks this; it can also be found in the test suite for the package.\n",
    "\n",
    "We first define the variables:"
   ]
  },
  {
   "cell_type": "code",
   "execution_count": null,
   "metadata": {},
   "outputs": [],
   "source": [
    "# Define the variables α₁, ..., α₄, β₁, ..., β₄\n",
    "make_variable(name, index::Int) = string(name, TaylorSeries.subscriptify(index))\n"
   ]
  },
  {
   "cell_type": "code",
   "execution_count": null,
   "metadata": {
    "attributes": {
     "classes": [
      "julia"
     ],
     "id": ""
    }
   },
   "outputs": [],
   "source": [
    "variable_names = [make_variable(\"α\", i) for i in 1:4];\n",
    "\n",
    "append!(variable_names, [make_variable(\"β\", i) for i in 1:4]);\n"
   ]
  },
  {
   "cell_type": "code",
   "execution_count": null,
   "metadata": {},
   "outputs": [],
   "source": [
    "# Create the Taylor objects (order 4, numvars=8)\n",
    "a1, a2, a3, a4, b1, b2, b3, b4 = set_variables(variable_names, order=4);    "
   ]
  },
  {
   "cell_type": "code",
   "execution_count": null,
   "metadata": {},
   "outputs": [],
   "source": [
    "a1"
   ]
  },
  {
   "cell_type": "code",
   "execution_count": null,
   "metadata": {},
   "outputs": [],
   "source": [
    "b1"
   ]
  },
  {
   "cell_type": "markdown",
   "metadata": {},
   "source": [
    "Now we compute each term appearing in the above equation, and compare them"
   ]
  },
  {
   "cell_type": "code",
   "execution_count": null,
   "metadata": {
    "attributes": {
     "classes": [
      "julia"
     ],
     "id": ""
    }
   },
   "outputs": [],
   "source": [
    "# left-hand side\n",
    "lhs1 = a1^2 + a2^2 + a3^2 + a4^2;\n",
    "lhs2 = b1^2 + b2^2 + b3^2 + b4^2;\n",
    "lhs = lhs1 * lhs2"
   ]
  },
  {
   "cell_type": "code",
   "execution_count": null,
   "metadata": {},
   "outputs": [],
   "source": [
    "# right-hand side\n",
    "rhs1 = (a1*b1 + a2*b2 + a3*b3 + a4*b4)^2;\n",
    "rhs2 = (a1*b2 - a2*b1 + a3*b4 - a4*b3)^2;\n",
    "rhs3 = (a1*b3 - a2*b4 - a3*b1 + a4*b2)^2;\n",
    "rhs4 = (a1*b4 + a2*b3 - a3*b2 - a4*b1)^2; \n",
    "rhs = rhs1 + rhs2 + rhs3 + rhs4"
   ]
  },
  {
   "cell_type": "code",
   "execution_count": null,
   "metadata": {
    "attributes": {
     "classes": [
      "julia"
     ],
     "id": ""
    }
   },
   "outputs": [],
   "source": [
    "lhs == rhs"
   ]
  },
  {
   "cell_type": "markdown",
   "metadata": {},
   "source": [
    "The identity is thus satisfied."
   ]
  },
  {
   "cell_type": "markdown",
   "metadata": {},
   "source": [
    "### 2. Fateman test\n",
    "\n",
    "Richard J. Fateman, from Berkeley, proposed as a stringent test\n",
    "of polynomial multiplication\n",
    "the evaluation of $s \\cdot (s+1)$, where $s := (1+x+y+z+w)^{20}$. This is\n",
    "implemented in\n",
    "the function `fateman1` below. We also evaluate the alternative form $s^2+s$ in `fateman2`,\n",
    "which involves fewer operations (and makes a fairer comparison to what\n",
    "Mathematica does). Below we have used Julia v0.4."
   ]
  },
  {
   "cell_type": "code",
   "execution_count": null,
   "metadata": {},
   "outputs": [],
   "source": [
    "set_variables(\"x\", numvars=4, order=40);"
   ]
  },
  {
   "cell_type": "code",
   "execution_count": null,
   "metadata": {},
   "outputs": [],
   "source": [
    "function fateman1(degree::Int)\n",
    "    T = Int128\n",
    "    oneH = HomogeneousPolynomial(one(T), 0)\n",
    "    # s = 1 + x + y + z + w\n",
    "    s = TaylorN( [oneH, HomogeneousPolynomial([one(T),one(T),one(T),one(T)],1)], degree )\n",
    "    s = s^degree  \n",
    "    # s is converted to order 2*ndeg\n",
    "    s = TaylorN(s, 2*degree)\n",
    "    s * ( s+TaylorN(oneH, 2*degree) )\n",
    "end"
   ]
  },
  {
   "cell_type": "code",
   "execution_count": null,
   "metadata": {},
   "outputs": [],
   "source": [
    "@time f1 = fateman1(0) #for compilation; "
   ]
  },
  {
   "cell_type": "code",
   "execution_count": null,
   "metadata": {},
   "outputs": [],
   "source": [
    "@time f1 = fateman1(20);"
   ]
  },
  {
   "cell_type": "markdown",
   "metadata": {},
   "source": [
    "Another implementation of the same:"
   ]
  },
  {
   "cell_type": "code",
   "execution_count": null,
   "metadata": {},
   "outputs": [],
   "source": [
    "function fateman2(degree::Int)\n",
    "    T = Int128\n",
    "    oneH = HomogeneousPolynomial(one(T), 0)\n",
    "    # s = 1 + x + y + z + w\n",
    "    s = TaylorN( [oneH, HomogeneousPolynomial([one(T),one(T),one(T),one(T)],1)], degree )\n",
    "    s = s^degree\n",
    "    # s is converted to order 2*ndeg\n",
    "    s = TaylorN(s, 2*degree)\n",
    "    return s^2 + s\n",
    "end"
   ]
  },
  {
   "cell_type": "code",
   "execution_count": null,
   "metadata": {},
   "outputs": [],
   "source": [
    "@time f2 = fateman2(0) #for compilation;"
   ]
  },
  {
   "cell_type": "code",
   "execution_count": null,
   "metadata": {},
   "outputs": [],
   "source": [
    "@time f2 = fateman2(20);"
   ]
  },
  {
   "cell_type": "code",
   "execution_count": null,
   "metadata": {},
   "outputs": [],
   "source": [
    "getcoeff(f2,[1,6,7,20]) # coef x^1 y^6 z^7 w^{20}"
   ]
  },
  {
   "cell_type": "code",
   "execution_count": null,
   "metadata": {
    "attributes": {
     "classes": [
      "julia"
     ],
     "id": ""
    }
   },
   "outputs": [],
   "source": [
    "sum(TaylorSeries.size_table) # number of distinct monomials"
   ]
  },
  {
   "cell_type": "markdown",
   "metadata": {},
   "source": [
    "The tests above show the necessity of using `Int128`, that\n",
    "`fateman2` is about twice as fast as `fateman1`, and that the series has 135751 monomials on 4 variables.\n",
    "\n",
    "Mathematica version 10.3.0 requires 7.606437 seconds. Then,\n",
    "with TaylorSeries v0.3.0, our implementation of `fateman1` is about a factor ~2.7 faster,\n",
    "and `fateman2` is a factor 5.8 faster. (The original test by Fateman\n",
    "corresponds to `fateman1`, which avoids optimizations in `^2`.)"
   ]
  },
  {
   "cell_type": "code",
   "execution_count": null,
   "metadata": {},
   "outputs": [],
   "source": []
  }
 ],
 "metadata": {
  "kernelspec": {
   "display_name": "Julia 0.4.8-pre",
   "language": "julia",
   "name": "julia-0.4"
  },
  "language_info": {
   "file_extension": ".jl",
   "mimetype": "application/julia",
   "name": "julia",
   "version": "0.4.8"
  },
  "nav_menu": {},
  "toc": {
   "navigate_menu": true,
   "number_sections": true,
   "sideBar": true,
   "threshold": 6,
   "toc_cell": false,
   "toc_section_display": "block",
   "toc_window_display": false
  }
 },
 "nbformat": 4,
 "nbformat_minor": 0
}
