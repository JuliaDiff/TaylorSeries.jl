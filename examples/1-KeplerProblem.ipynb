{
 "cells": [
  {
   "cell_type": "markdown",
   "metadata": {},
   "source": [
    "# Integration of the Kepler problem with Taylor's method in `Julia`\n",
    "\n",
    "#### L. Benet, Instituto de Ciencias Físicas, UNAM\n",
    "benet < AT > fis.unam.mx"
   ]
  },
  {
   "cell_type": "markdown",
   "metadata": {},
   "source": [
    "## I. The Taylor Integrator\n",
    "\n",
    "-------"
   ]
  },
  {
   "cell_type": "markdown",
   "metadata": {},
   "source": [
    "Taylor's integration method for ODEs is quite powerful, allowing to reach a precision comparable to round-off errors in one time-step. While the equations of motion can be in general easily implemented, an efficient implementation requires additional work. Below, we shall show two distinct implementations of the equations of motion for the Kepler problem, which shows how to optimize the running-time; see [TaylorIntegration.jl](https://github.com/PerezHz/TaylorIntegration.jl) for a yet non-optimized implementation."
   ]
  },
  {
   "cell_type": "markdown",
   "metadata": {},
   "source": [
    "**NOTE** \n",
    "\n",
    "Below we use `julia` version 0.4.7 (0.4.8-pre+1) as the kernel, though it works using Julia v0.5."
   ]
  },
  {
   "cell_type": "code",
   "execution_count": 1,
   "metadata": {
    "collapsed": false
   },
   "outputs": [
    {
     "name": "stdout",
     "output_type": "stream",
     "text": [
      "0.4.8-pre+1\n"
     ]
    }
   ],
   "source": [
    "println(VERSION)\n",
    "\n",
    "using Compat"
   ]
  },
  {
   "cell_type": "markdown",
   "metadata": {},
   "source": [
    "We load first the relevant package: [TaylorSeries.jl][1]\n",
    "\n",
    "[1]: http://github.com/lbenet/TaylorSeries.jl"
   ]
  },
  {
   "cell_type": "code",
   "execution_count": 2,
   "metadata": {
    "collapsed": false
   },
   "outputs": [
    {
     "name": "stderr",
     "output_type": "stream",
     "text": [
      "WARNING: New definition \n",
      "    /(TaylorSeries.Taylor1{#T<:Real}, #T<:Real) at /Users/benet/.julia/v0.4/TaylorSeries/src/Taylor1.jl:261\n",
      "is ambiguous with: \n",
      "    /(TaylorSeries.Taylor1{Base.Rational{#T<:Integer}}, #S<:Union{Base.Complex, Real}) at /Users/benet/.julia/v0.4/TaylorSeries/src/Taylor1.jl:254.\n",
      "To fix, define \n",
      "    /(TaylorSeries.Taylor1{_<:Base.Rational{#T<:Integer}}, _<:Base.Rational{#T<:Integer})\n",
      "before the new definition.\n"
     ]
    }
   ],
   "source": [
    "using TaylorSeries"
   ]
  },
  {
   "cell_type": "markdown",
   "metadata": {},
   "source": [
    "The following *parameters* are set for the integrator:\n",
    "\n",
    "- `ordenTaylor`: Order of the Taylor polynomials considered\n",
    "- `epsAbs`: Absolute value set for the last (*and* the one-before-last) term of the Taylor expansion of the dynamical variables. This value is used to define an integration step and represents a measure of the error. Notice below that this value is smaller than `eps(1.0)`."
   ]
  },
  {
   "cell_type": "code",
   "execution_count": 3,
   "metadata": {
    "collapsed": false
   },
   "outputs": [
    {
     "name": "stdout",
     "output_type": "stream",
     "text": [
      " Taylor order = 28\n",
      " Eps = 1.0e-20\n",
      "\n"
     ]
    }
   ],
   "source": [
    "# Parámetros para el integrador de Taylor\n",
    "const _ordenTaylor = 28\n",
    "const _epsAbs = 1.0e-20\n",
    "\n",
    "println(\" Taylor order = $_ordenTaylor\\n Eps = $_epsAbs\\n\")"
   ]
  },
  {
   "cell_type": "markdown",
   "metadata": {},
   "source": [
    "The Taylor method works as follows: The equations of motion and the initial conditions $x(t_0)$, $y(t_0)$, $v_x(t_0)$, $v_y(t_0)$, are used to obtain *recursively* each term of the Taylor expansion of the dynamical variables, exploiting the relation\n",
    "$$\n",
    "x_{[n+1]} = \\frac{f_{[n]}(x,t)}{n+1}.\n",
    "$$\n",
    "Here, $f_{[n]}(x,t)$ is the $n$-th (normalized) Taylor coefficient of $f(x,t)$ in terms of the independent variable $t$, where $f(x,t)$ is the rhs of the equation of motion $\\dot{x} = f(x,t)$. Likewise, $x_{[n]}$ is the $n$-th Taylor coefficient for the dependent variable $x(t)$, expanded around $x(t_0)=x_{[0]}$. The latter corresponds to the initial condition.\n",
    "\n",
    "Once all Taylor coefficients are obtained up to a maximum order of the Taylor expansion, which is large enough to ensure convergece of the series, the last two terms of the expansion are used to determine the step size $h$ for the integration together with the value of `EpsAbs`. (Other methods exist that yield better optimized step-sizes, but these are usually more involved to compute.) Evaluating the Taylor expansion with the step-size yields the actual values of the dynamical variables at $t_1=t_0+h$. These values are then used as new *initial conditions* (at $t_0+h$) and everything is iterated.\n"
   ]
  },
  {
   "cell_type": "markdown",
   "metadata": {},
   "source": [
    "Except for the actual implementation of the equations of motion (the *jet*) discussed below, the following functions do what we just described:\n",
    "\n",
    "- `taylorStepper`: carries one step of the integration from $t_0$ to $t_1=t_0+h$, returning h and the value of the dynamical variables evaluated at $t_1$. This routine depends on a user-suplied routine that performs the computation of the Taylor coefficients of all dynamical variables, i.e., that implements the calculation of the jet (`jetEqs`). This routine has as input value a vector with the dynamical variables.\n",
    "- `stepsize`: Returns the integration step ($h$) from the Taylor expansion coefficients of *one* dynamical variable and `epsAbs`, as given by \n",
    "$ h = \\min[\\, (\\epsilon/x^{[p-1]})^{1/(p-1)}, (\\epsilon/x^{[p]})^{1/p}\\, ], $\n",
    "where $p$ is the order of the Taylor polynomial, $x^{[r]}$ is the $r$-order Taylor coefficient (the $r$-th derivative divided by $r!$), and $\\epsilon={\\tt epsAbs}$. \n"
   ]
  },
  {
   "cell_type": "code",
   "execution_count": 4,
   "metadata": {
    "collapsed": false
   },
   "outputs": [
    {
     "data": {
      "text/plain": [
       "taylorStepper (generic function with 1 method)"
      ]
     },
     "execution_count": 4,
     "metadata": {},
     "output_type": "execute_result"
    }
   ],
   "source": [
    "# Returns stepsize of the integration and a vector with the updated values of the dependent\n",
    "# variables\n",
    "function taylorStepper{T<:Real}( jetEqs::Function, vec0::Array{T,1} )\n",
    "    \n",
    "    n = length( vec0 )\n",
    "\n",
    "    vec0T = Array(Taylor1{T},n)\n",
    "    @simd for i in eachindex(vec0)\n",
    "        @inbounds vec0T[i] = Taylor1([vec0[i]], _ordenTaylor)\n",
    "    end\n",
    "\n",
    "    # Jets\n",
    "    vec1T = jetEqs( vec0 )\n",
    "    \n",
    "    # Step-size\n",
    "    hh = Inf\n",
    "    for i in eachindex(vec1T)\n",
    "        @inbounds h1 = stepsize( vec1T[i], _epsAbs )\n",
    "        hh = min( hh, h1 )\n",
    "    end\n",
    "    \n",
    "    # Values at t0+h\n",
    "    @simd for i in eachindex(vec0)\n",
    "        @inbounds vec0[i] = evaluate( vec1T[i], hh )\n",
    "    end\n",
    "    \n",
    "    return hh, vec0\n",
    "end"
   ]
  },
  {
   "cell_type": "code",
   "execution_count": 5,
   "metadata": {
    "collapsed": false
   },
   "outputs": [
    {
     "data": {
      "text/plain": [
       "stepsize (generic function with 1 method)"
      ]
     },
     "execution_count": 5,
     "metadata": {},
     "output_type": "execute_result"
    }
   ],
   "source": [
    "# Returns the maximum step size from epsilon and the last two coefficients of the x-Taylor series \n",
    "function stepsize{T<:Real}(x::Taylor1{T}, epsilon::Float64)\n",
    "    ord = x.order\n",
    "    h = Inf\n",
    "    for k in [ord-1, ord]\n",
    "        kinv = 1.0/k\n",
    "        aux = abs( x[k+1] )\n",
    "        h = min(h, (epsilon/aux)^kinv)\n",
    "    end\n",
    "    return h\n",
    "end"
   ]
  },
  {
   "cell_type": "markdown",
   "metadata": {},
   "source": [
    "## II. The Kepler problem\n",
    "\n",
    "-------"
   ]
  },
  {
   "cell_type": "markdown",
   "metadata": {},
   "source": [
    "As a concrete example, we numerically integrate the cartesian equations of motion of the (planar) [Kepler problem](https://en.wikipedia.org/wiki/Kepler_problem):\n",
    "\n",
    "\\begin{eqnarray}\n",
    "\\dot{x} &=& v_x,\\\\\n",
    "\\dot{y} &=& v_y,\\\\\n",
    "\\dot{v}_x &=& - \\frac{G M x}{(x^2 + y^2)^{3/2}},\\\\\n",
    "\\dot{v}_y &=& - \\frac{G M y}{(x^2 + y^2)^{3/2}}.\n",
    "\\end{eqnarray}"
   ]
  },
  {
   "cell_type": "markdown",
   "metadata": {},
   "source": [
    "For concreteness, we fix $\\mu = GM = 1$, and Kepler's third law defines the units of time in terms of those of distance: $T= 2\\pi a^{3/2}$. The origin is the center of mass of the two bodies, so $x$ and $y$ above are actually relative coordinates to the center of mass. We choose the $x$-axis to be parallel to the major axis of the ellipse.\n",
    "\n",
    "The initial conditions for the particle are set at periapse, which we locate on the positive x-axis. Using the semimajor axis $a$ and the eccentricity $e$, we have\n",
    "$$ \n",
    "x_0 = a (1-e),\\\\\n",
    "y_0 = 0,\\\\\n",
    "v_{x_0} = 0,\\\\\n",
    "v_{y_0} = \\frac{l_z}{x_0} = m \\frac{\\sqrt{\\mu a (1-e^2)}}{x_0},\n",
    "$$\n",
    "where $l_z$ is the angular momentum. Below we set the mass $m$ equal to 1."
   ]
  },
  {
   "cell_type": "code",
   "execution_count": 6,
   "metadata": {
    "collapsed": false
   },
   "outputs": [
    {
     "name": "stdout",
     "output_type": "stream",
     "text": [
      " mass = 1.0\n",
      " a = 1.0\n",
      " e = 0.8\n",
      "\n"
     ]
    }
   ],
   "source": [
    "const mu = GM = 1.0\n",
    "\n",
    "const masa = 1.0\n",
    "const semieje = 1.0\n",
    "const excentricidad = 0.8\n",
    "\n",
    "println(\" mass = $masa\\n a = $semieje\\n e = $excentricidad\\n\")"
   ]
  },
  {
   "cell_type": "markdown",
   "metadata": {},
   "source": [
    "The following functions allow us to calculate the energy and angular momentum using cartesian coordinates or the semimajor axis and excentricity of the orbit:"
   ]
  },
  {
   "cell_type": "code",
   "execution_count": 7,
   "metadata": {
    "collapsed": false
   },
   "outputs": [
    {
     "data": {
      "text/plain": [
       "energy (generic function with 2 methods)"
      ]
     },
     "execution_count": 7,
     "metadata": {},
     "output_type": "execute_result"
    }
   ],
   "source": [
    "function energy{T<:Real}( x::T, y::T, vx::T, vy::T )\n",
    "    eneCin = 0.5*(vx*vx + vy*vy)\n",
    "    r = sqrt( x*x + y*y)\n",
    "    enePot = -GM*masa/r\n",
    "    return eneCin + enePot\n",
    "end\n",
    "energy{T<:Real}(a::T) = - 0.5*GM*masa/a"
   ]
  },
  {
   "cell_type": "code",
   "execution_count": 8,
   "metadata": {
    "collapsed": false
   },
   "outputs": [
    {
     "data": {
      "text/plain": [
       "lz1 (generic function with 1 method)"
      ]
     },
     "execution_count": 8,
     "metadata": {},
     "output_type": "execute_result"
    }
   ],
   "source": [
    "lz{T<:Real}( a::T, e::T ) = masa * sqrt( GM*a*(1-e^2) )\n",
    "lz1{T<:Real}( x::T, y::T, vx::T, vy::T ) = masa*( x*vy - y*vx )"
   ]
  },
  {
   "cell_type": "markdown",
   "metadata": {},
   "source": [
    "As mentioned above, we set the initial conditions in cartesian coordinates from the values of the semimajor axis and eccentricity."
   ]
  },
  {
   "cell_type": "code",
   "execution_count": 9,
   "metadata": {
    "collapsed": false
   },
   "outputs": [
    {
     "data": {
      "text/plain": [
       "iniCond (generic function with 1 method)"
      ]
     },
     "execution_count": 9,
     "metadata": {},
     "output_type": "execute_result"
    }
   ],
   "source": [
    "function iniCond{T<:Real}(a::T, e::T)\n",
    "    x0  = a*(1-e)\n",
    "    vy0 = lz(a, e) / x0\n",
    "    y0  = zero(vy0)\n",
    "    vx0 = zero(vy0)\n",
    "    return x0, y0, vx0, vy0\n",
    "end"
   ]
  },
  {
   "cell_type": "markdown",
   "metadata": {},
   "source": [
    "## III. Taylor integration of the Kepler problem\n",
    "\n",
    "-------"
   ]
  },
  {
   "cell_type": "markdown",
   "metadata": {},
   "source": [
    "As mentioned above, Taylor's integration method is quite powerful. Yet, the equations of motion have to be implemented individually, and this involves a bit more than simply defining a function which contains the equations of motion, although the latter can actually be implemented just like that, which is paid back in performance.\n",
    "\n",
    "Below, the functions `jetKepler1` and `jetKepler2` are two implementations of the equations of motion for the Kepler problem. Both return a vector that contains the Taylor series for the dynamical variables, taking as input a vector of Taylor coefficients.\n",
    "\n",
    "The former function is an *almost* straight forward implementation of the equations of motion, except for the fact that we have to use `Taylor`-type variables. The latter yields the same results, but the implementation is done by splitting the equations of motion in unary and binary (elementary) functions and operations. This second method is quite *hand-crafted* to the actual problem, and it is not the most explicit way of doing this; yet, it turns out to be much more efficient than the former."
   ]
  },
  {
   "cell_type": "code",
   "execution_count": 10,
   "metadata": {
    "collapsed": false
   },
   "outputs": [
    {
     "data": {
      "text/plain": [
       "jetKepler1 (generic function with 1 method)"
      ]
     },
     "execution_count": 10,
     "metadata": {},
     "output_type": "execute_result"
    }
   ],
   "source": [
    "function jetKepler1{T<:Real}( vec::Array{T,1} )\n",
    "\n",
    "    xT = Taylor1(vec[1], _ordenTaylor)\n",
    "    yT = Taylor1(vec[2], _ordenTaylor)\n",
    "    vxT = Taylor1(vec[3], _ordenTaylor)\n",
    "    vyT = Taylor1(vec[4], _ordenTaylor)\n",
    "\n",
    "\n",
    "    for k = 0:_ordenTaylor-1\n",
    "        knext = k+1\n",
    "        # Taylor expansions up to order k\n",
    "        # This part makes it somewhat slower the implementations, since there\n",
    "        # are many operations which are completly superflous\n",
    "        xTt = Taylor1( xT[1:k+1], k)\n",
    "        yTt = Taylor1( yT[1:k+1], k)\n",
    "        vxTt = Taylor1( vxT[1:k+1], k)\n",
    "        vyTt = Taylor1( vyT[1:k+1], k)\n",
    "        # Eqs of motion <--- This as straight forward as it can be\n",
    "        xDot = vxTt\n",
    "        yDot = vyTt\n",
    "        rrt = ( xTt^2 + yTt^2 )^(3/2)\n",
    "        vxDot = -GM * xTt / rrt\n",
    "        vyDot = -GM * yTt / rrt\n",
    "        # The equations of motion define the recurrencies\n",
    "        xT[knext+1]  = xDot[knext] / knext\n",
    "        yT[knext+1]  = yDot[knext] / knext\n",
    "        vxT[knext+1] = vxDot[knext] / knext\n",
    "        vyT[knext+1] = vyDot[knext] / knext\n",
    "    end\n",
    "    \n",
    "    return Taylor1[ xT, yT, vxT, vyT ]\n",
    "end"
   ]
  },
  {
   "cell_type": "code",
   "execution_count": 11,
   "metadata": {
    "collapsed": false
   },
   "outputs": [
    {
     "data": {
      "text/plain": [
       "jetKepler2 (generic function with 1 method)"
      ]
     },
     "execution_count": 11,
     "metadata": {},
     "output_type": "execute_result"
    }
   ],
   "source": [
    "function jetKepler2{T<:Real}( vec::Array{T,1} )\n",
    "\n",
    "    xT = Taylor1(vec[1], _ordenTaylor)\n",
    "    yT = Taylor1(vec[2], _ordenTaylor)\n",
    "    vxT = Taylor1(vec[3], _ordenTaylor)\n",
    "    vyT = Taylor1(vec[4], _ordenTaylor)\n",
    "\n",
    "    # Auxiliary quantities\n",
    "    x2T = zeros( T, _ordenTaylor+1 )\n",
    "    y2T = zeros( T, _ordenTaylor+1 )\n",
    "    sT  = zeros( T, _ordenTaylor+1 )\n",
    "    rT3 = zeros( T, _ordenTaylor+1 )\n",
    "    Fx  = zeros( T, _ordenTaylor+1 )\n",
    "    Fy  = zeros( T, _ordenTaylor+1 )\n",
    "\n",
    "    # Now the implementation\n",
    "    for k = 0:_ordenTaylor-1\n",
    "        knext = k+1\n",
    "        # The right-hand size of the eqs of motion\n",
    "        # This is more adpated for this problem, and avoids many superflous operations\n",
    "        x2T[knext] = TaylorSeries.squareHomogCoef(k, xT.coeffs)\n",
    "        y2T[knext] = TaylorSeries.squareHomogCoef(k, yT.coeffs)\n",
    "        sT[knext]  = x2T[knext] + y2T[knext]\n",
    "        rT3[knext] = TaylorSeries.powHomogCoef(k, sT, 1.5, rT3, 0)\n",
    "        Fx[knext]  = TaylorSeries.divHomogCoef(k, xT.coeffs, rT3, Fx, 0)\n",
    "        Fy[knext]  = TaylorSeries.divHomogCoef(k, yT.coeffs, rT3, Fy, 0)\n",
    "        # The equations of motion define the recurrencies\n",
    "        xT[knext+1]  = vxT[knext] / knext\n",
    "        yT[knext+1]  = vyT[knext] / knext\n",
    "        vxT[knext+1] = -GM * Fx[knext] / knext\n",
    "        vyT[knext+1] = -GM * Fy[knext] / knext\n",
    "    end\n",
    "    \n",
    "    return Taylor1[ xT, yT, vxT, vyT ]\n",
    "end"
   ]
  },
  {
   "cell_type": "markdown",
   "metadata": {},
   "source": [
    "The following shows some benchmarks for 10 identic one-step integrations, using both implementations of the equations of motion."
   ]
  },
  {
   "cell_type": "code",
   "execution_count": 12,
   "metadata": {
    "collapsed": false
   },
   "outputs": [
    {
     "data": {
      "text/plain": [
       "(0.017379273627668643,[0.19626418116550612,0.05181472066492753,-0.42543199148800787,2.944787769051677])"
      ]
     },
     "execution_count": 12,
     "metadata": {},
     "output_type": "execute_result"
    }
   ],
   "source": [
    "x0, y0, vx0, vy0 = iniCond(semieje, excentricidad)\n",
    "\n",
    "taylorStepper( jetKepler1, [x0, y0, vx0, vy0] );\n",
    "\n",
    "timeJK1 = @elapsed begin\n",
    "    for i=1:10\n",
    "        taylorStepper( jetKepler1, [x0, y0, vx0, vy0] );\n",
    "    end\n",
    "end\n",
    "taylorStepper( jetKepler1, [x0, y0, vx0, vy0] )"
   ]
  },
  {
   "cell_type": "code",
   "execution_count": 13,
   "metadata": {
    "collapsed": false
   },
   "outputs": [
    {
     "data": {
      "text/plain": [
       "(0.017379273627668643,[0.19626418116550612,0.05181472066492753,-0.42543199148800787,2.944787769051677])"
      ]
     },
     "execution_count": 13,
     "metadata": {},
     "output_type": "execute_result"
    }
   ],
   "source": [
    "x0, y0, vx0, vy0 = iniCond(semieje, excentricidad)\n",
    "\n",
    "taylorStepper( jetKepler2, [x0, y0, vx0, vy0] );\n",
    "\n",
    "timeJK2 = @elapsed begin\n",
    "    for i=1:10\n",
    "        taylorStepper( jetKepler2, [x0, y0, vx0, vy0] );\n",
    "    end\n",
    "end\n",
    "taylorStepper( jetKepler2, [x0, y0, vx0, vy0] )\n"
   ]
  },
  {
   "cell_type": "code",
   "execution_count": 14,
   "metadata": {
    "collapsed": false
   },
   "outputs": [
    {
     "name": "stdout",
     "output_type": "stream",
     "text": [
      "timeJK1 = 0.001156201   timeJK2 = 0.000211803 \n"
     ]
    },
    {
     "data": {
      "text/plain": [
       "5.458850913348725"
      ]
     },
     "execution_count": 14,
     "metadata": {},
     "output_type": "execute_result"
    }
   ],
   "source": [
    "println( \"timeJK1 = $(timeJK1)   timeJK2 = $(timeJK2) \")\n",
    "tau = timeJK1/timeJK2"
   ]
  },
  {
   "cell_type": "markdown",
   "metadata": {},
   "source": [
    "The results are identic, as it should be; yet, the elapsed time is somewhat shorter when using `jetKepler2`. The numbers clearly show that it is worth taking the time to construct the jet as in `jetKepler2`."
   ]
  },
  {
   "cell_type": "markdown",
   "metadata": {},
   "source": [
    "Now, we carry out a long integration of this rather eccentric keplerian orbit (excentricity is 0.8). Everything needed is included in the function `keplerIntegration`."
   ]
  },
  {
   "cell_type": "code",
   "execution_count": 15,
   "metadata": {
    "collapsed": false
   },
   "outputs": [
    {
     "data": {
      "text/plain": [
       "keplerIntegration (generic function with 1 method)"
      ]
     },
     "execution_count": 15,
     "metadata": {},
     "output_type": "execute_result"
    }
   ],
   "source": [
    "function keplerIntegration( a::Float64, e::Float64, time_max::Float64, jetEqs::Function )\n",
    "    # Initial conditions, energy and angular momentum\n",
    "    t0 = 0.0\n",
    "    x0, y0, vx0, vy0 = iniCond(a, e)\n",
    "    ene0 = energy(x0, y0, vx0, vy0)\n",
    "    lz0 = lz1(x0, y0, vx0, vy0)\n",
    "    \n",
    "    # Change, measured in the local `eps` of the change of energy and angular momentum\n",
    "    eps_ene = eps(ene0); dEne = zero(Int)\n",
    "    eps_lz = eps(lz0); dLz = zero(Int)\n",
    "    \n",
    "    # Vectors to plot the orbit with PyPlot\n",
    "    tV, xV, yV, vxV, vyV = Float64[], Float64[], Float64[], Float64[], Float64[]\n",
    "    DeneV, DlzV = Int[], Int[]\n",
    "    push!(tV, t0)\n",
    "    push!(xV, x0)\n",
    "    push!(yV, y0)\n",
    "    push!(vxV, vx0)\n",
    "    push!(vyV, vy0)\n",
    "    push!(DeneV, zero(Int))\n",
    "    push!(DlzV, zero(Int))\n",
    "    \n",
    "    # This is the main loop; we include a minimum step size for security\n",
    "    dt = 1.0\n",
    "    while t0 < time_max && dt>1.0e-8\n",
    "        # Here we integrate\n",
    "        dt, (x1, y1, vx1, vy1) = taylorStepper( jetEqs, [x0, y0, vx0, vy0] );\n",
    "        t0 += dt\n",
    "        push!(tV,t0)\n",
    "        push!(xV,x1)\n",
    "        push!(yV,y1)\n",
    "        push!(vxV, vx1)\n",
    "        push!(vyV, vy1)\n",
    "        eneEnd = energy(x1, y1, vx1, vy1)\n",
    "        lzEnd = lz1(x1, y1, vx1, vy1)\n",
    "        dEne = trunc( Int, (eneEnd-ene0)/eps_ene )\n",
    "        dLz  = trunc( Int, (lzEnd-lz0)/eps_lz )\n",
    "        push!(DeneV, dEne)\n",
    "        push!(DlzV, dLz)\n",
    "        x0, y0, vx0, vy0 = x1, y1, vx1, vy1\n",
    "    end\n",
    "\n",
    "    return tV, xV, yV, DeneV, DlzV\n",
    "end"
   ]
  },
  {
   "cell_type": "code",
   "execution_count": 16,
   "metadata": {
    "collapsed": false
   },
   "outputs": [
    {
     "name": "stdout",
     "output_type": "stream",
     "text": [
      "  4.623210 seconds (47.67 M allocations: 3.549 GB, 6.94% gc time)\n"
     ]
    }
   ],
   "source": [
    "#jetKepler1\n",
    "tV1, xV1, yV1, DeneV1, DlzV1 = keplerIntegration( semieje, excentricidad, 2pi, jetKepler1);\n",
    "@time tV1, xV1, yV1, DeneV1, DlzV1 = \n",
    "    keplerIntegration( semieje, excentricidad, 1000*2pi, jetKepler1);"
   ]
  },
  {
   "cell_type": "code",
   "execution_count": 17,
   "metadata": {
    "collapsed": false
   },
   "outputs": [
    {
     "name": "stdout",
     "output_type": "stream",
     "text": [
      "  0.882801 seconds (16.18 M allocations: 494.170 MB, 4.83% gc time)\n"
     ]
    }
   ],
   "source": [
    "#jetKepler2\n",
    "tV2, xV2, yV2, DeneV2, DlzV2 = keplerIntegration( semieje, excentricidad, 2pi, jetKepler2);\n",
    "@time tV2, xV2, yV2, DeneV2, DlzV2 = \n",
    "    keplerIntegration( semieje, excentricidad, 1000*2pi, jetKepler2);"
   ]
  },
  {
   "cell_type": "markdown",
   "metadata": {},
   "source": [
    "Checking the consistency of the results after 1000 periods"
   ]
  },
  {
   "cell_type": "code",
   "execution_count": 18,
   "metadata": {
    "collapsed": false
   },
   "outputs": [
    {
     "data": {
      "text/plain": [
       "(true,true)"
      ]
     },
     "execution_count": 18,
     "metadata": {},
     "output_type": "execute_result"
    }
   ],
   "source": [
    "tV1[end] == tV2[end], yV1[end] == yV2[end]"
   ]
  },
  {
   "cell_type": "markdown",
   "metadata": {},
   "source": [
    "The minimum value of the step-size:"
   ]
  },
  {
   "cell_type": "code",
   "execution_count": 19,
   "metadata": {
    "collapsed": false
   },
   "outputs": [
    {
     "data": {
      "text/plain": [
       "0.017379273627668643"
      ]
     },
     "execution_count": 19,
     "metadata": {},
     "output_type": "execute_result"
    }
   ],
   "source": [
    "minimum([tV1[i+1]-tV1[i] for i=1:length(tV1)-1])"
   ]
  },
  {
   "cell_type": "markdown",
   "metadata": {},
   "source": [
    "which, in units of the orbital period, is:"
   ]
  },
  {
   "cell_type": "code",
   "execution_count": 20,
   "metadata": {
    "collapsed": false
   },
   "outputs": [
    {
     "data": {
      "text/plain": [
       "0.0027659973051900803"
      ]
     },
     "execution_count": 20,
     "metadata": {},
     "output_type": "execute_result"
    }
   ],
   "source": [
    "ans/(2pi)"
   ]
  },
  {
   "cell_type": "markdown",
   "metadata": {},
   "source": [
    "The average step-size is:"
   ]
  },
  {
   "cell_type": "code",
   "execution_count": 21,
   "metadata": {
    "collapsed": false
   },
   "outputs": [
    {
     "data": {
      "text/plain": [
       "0.14405720621814588"
      ]
     },
     "execution_count": 21,
     "metadata": {},
     "output_type": "execute_result"
    }
   ],
   "source": [
    "(tV1[end]-tV1[1])/(length(tV1)-1)"
   ]
  },
  {
   "cell_type": "code",
   "execution_count": 22,
   "metadata": {
    "collapsed": false
   },
   "outputs": [
    {
     "data": {
      "text/plain": [
       "0.02292741645762644"
      ]
     },
     "execution_count": 22,
     "metadata": {},
     "output_type": "execute_result"
    }
   ],
   "source": [
    "ans/(2pi)"
   ]
  },
  {
   "cell_type": "markdown",
   "metadata": {},
   "source": [
    "Now let us plot the trajectory using `PyPlot`:"
   ]
  },
  {
   "cell_type": "code",
   "execution_count": 23,
   "metadata": {
    "collapsed": false
   },
   "outputs": [],
   "source": [
    "using PyPlot"
   ]
  },
  {
   "cell_type": "code",
   "execution_count": 24,
   "metadata": {
    "collapsed": false
   },
   "outputs": [
    {
     "data": {
      "image/png": "[encoded data removed]",
      "text/plain": [
       "PyPlot.Figure(PyObject <matplotlib.figure.Figure object at 0x32d70b050>)"
      ]
     },
     "metadata": {},
     "output_type": "display_data"
    },
    {
     "data": {
      "text/plain": [
       "2-element Array{Any,1}:\n",
       " PyObject <matplotlib.lines.Line2D object at 0x32f8074d0>\n",
       " PyObject <matplotlib.lines.Line2D object at 0x32f807650>"
      ]
     },
     "execution_count": 24,
     "metadata": {},
     "output_type": "execute_result"
    }
   ],
   "source": [
    "axis(\"equal\")\n",
    "plot(xV1, yV1, \",\", [0], [0], \"+\")"
   ]
  },
  {
   "cell_type": "markdown",
   "metadata": {},
   "source": [
    "Here we also plot the absolute change of energy and angular momentum as a function of time, in units of the \n",
    "local `eps` values for the initial quantities."
   ]
  },
  {
   "cell_type": "code",
   "execution_count": 25,
   "metadata": {
    "collapsed": false
   },
   "outputs": [
    {
     "data": {
      "image/png": "[encoded data removed]",
      "text/plain": [
       "PyPlot.Figure(PyObject <matplotlib.figure.Figure object at 0x32f7c4150>)"
      ]
     },
     "metadata": {},
     "output_type": "display_data"
    },
    {
     "data": {
      "text/plain": [
       "2-element Array{Any,1}:\n",
       " PyObject <matplotlib.lines.Line2D object at 0x32fe99d90>\n",
       " PyObject <matplotlib.lines.Line2D object at 0x32fe99e10>"
      ]
     },
     "execution_count": 25,
     "metadata": {},
     "output_type": "execute_result"
    }
   ],
   "source": [
    "plot(tV2/(2pi), DeneV2, \",\", tV2/(2pi), DlzV2, \",\")"
   ]
  },
  {
   "cell_type": "code",
   "execution_count": 26,
   "metadata": {
    "collapsed": false
   },
   "outputs": [],
   "source": [
    "tV2, xV2, yV2, DeneV2, DlzV2 = \n",
    "    keplerIntegration( semieje, excentricidad, 2pi*10000.0, jetKepler2);"
   ]
  },
  {
   "cell_type": "code",
   "execution_count": 27,
   "metadata": {
    "collapsed": false
   },
   "outputs": [
    {
     "data": {
      "image/png": "[encoded data removed]",
      "text/plain": [
       "PyPlot.Figure(PyObject <matplotlib.figure.Figure object at 0x32fed1150>)"
      ]
     },
     "metadata": {},
     "output_type": "display_data"
    },
    {
     "data": {
      "text/plain": [
       "2-element Array{Any,1}:\n",
       " PyObject <matplotlib.lines.Line2D object at 0x330da16d0>\n",
       " PyObject <matplotlib.lines.Line2D object at 0x330da1750>"
      ]
     },
     "execution_count": 27,
     "metadata": {},
     "output_type": "execute_result"
    }
   ],
   "source": [
    "plot(tV2/(2pi), DeneV2, \",\", tV2/(2pi), DlzV2, \",\")"
   ]
  },
  {
   "cell_type": "code",
   "execution_count": 28,
   "metadata": {
    "collapsed": false
   },
   "outputs": [
    {
     "data": {
      "text/plain": [
       "(704,176)"
      ]
     },
     "execution_count": 28,
     "metadata": {},
     "output_type": "execute_result"
    }
   ],
   "source": [
    "maximum(abs(DeneV2)), maximum(abs(DlzV2))"
   ]
  },
  {
   "cell_type": "code",
   "execution_count": 29,
   "metadata": {
    "collapsed": false
   },
   "outputs": [
    {
     "data": {
      "text/plain": [
       "(1.5631940186722204e-13,3.907985046680551e-14)"
      ]
     },
     "execution_count": 29,
     "metadata": {},
     "output_type": "execute_result"
    }
   ],
   "source": [
    "maximum(abs(DeneV2))*eps(1.0), maximum(abs(DlzV2))*eps(1.0)"
   ]
  },
  {
   "cell_type": "markdown",
   "metadata": {},
   "source": [
    "The absolute change of this quantities, after 10000 periods, is for the energy $704\\ {\\rm eps}\\sim 1.56\\times 10^{-13}$, and for the angular momentum $176\\ {\\rm eps}\\sim 3.9\\times10^{-14}$. The changes in time of these queantities have a random walk like behaviour, pointing out that they are due to the round-off errors in the computations.\n",
    "\n",
    "The numerical precision attained is **really good**."
   ]
  }
 ],
 "metadata": {
  "kernelspec": {
   "display_name": "Julia 0.4.8-pre",
   "language": "julia",
   "name": "julia-0.4"
  },
  "language_info": {
   "file_extension": ".jl",
   "mimetype": "application/julia",
   "name": "julia",
   "version": "0.4.8"
  },
  "nav_menu": {},
  "toc": {
   "navigate_menu": true,
   "number_sections": true,
   "sideBar": true,
   "threshold": 6,
   "toc_cell": false,
   "toc_section_display": "block",
   "toc_window_display": false
  }
 },
 "nbformat": 4,
 "nbformat_minor": 0
}
